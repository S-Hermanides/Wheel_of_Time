{
 "cells": [
  {
   "cell_type": "code",
   "execution_count": 1,
   "metadata": {
    "ExecuteTime": {
     "end_time": "2020-08-23T19:01:14.896932Z",
     "start_time": "2020-08-23T19:01:13.200623Z"
    }
   },
   "outputs": [
    {
     "name": "stderr",
     "output_type": "stream",
     "text": [
      "[nltk_data] Downloading package stopwords to\n",
      "[nltk_data]     /Users/stephan/nltk_data...\n",
      "[nltk_data]   Package stopwords is already up-to-date!\n"
     ]
    },
    {
     "data": {
      "text/plain": [
       "True"
      ]
     },
     "execution_count": 1,
     "metadata": {},
     "output_type": "execute_result"
    }
   ],
   "source": [
    "import pandas as pd\n",
    "from sklearn.feature_extraction.text import CountVectorizer, TfidfVectorizer\n",
    "from sklearn.decomposition import TruncatedSVD\n",
    "from sklearn.decomposition import NMF\n",
    "from gensim import corpora, models, similarities, matutils\n",
    "from data_extract_clean import stem_tokenizer\n",
    "from analysis_functions import display_topics\n",
    "from nltk.corpus import stopwords\n",
    "import nltk\n",
    "from nltk.stem.porter import PorterStemmer\n",
    "nltk.download('stopwords')"
   ]
  },
  {
   "cell_type": "code",
   "execution_count": 2,
   "metadata": {
    "ExecuteTime": {
     "end_time": "2020-08-23T19:01:15.059978Z",
     "start_time": "2020-08-23T19:01:14.901285Z"
    }
   },
   "outputs": [],
   "source": [
    "chapters = pd.read_pickle('../data_files/chapter_corpus.pickle')"
   ]
  },
  {
   "cell_type": "code",
   "execution_count": 3,
   "metadata": {
    "ExecuteTime": {
     "end_time": "2020-08-23T19:01:15.084033Z",
     "start_time": "2020-08-23T19:01:15.063048Z"
    }
   },
   "outputs": [],
   "source": [
    "stop_words = stopwords.words('english')\n",
    "stop_words.extend(['becaus', 'said'])\n",
    "porter_stemmer = PorterStemmer()\n",
    "stop_words_stemmed = [porter_stemmer.stem(word) for word in stop_words]"
   ]
  },
  {
   "cell_type": "markdown",
   "metadata": {},
   "source": [
    "## Comparing matrix size"
   ]
  },
  {
   "cell_type": "markdown",
   "metadata": {},
   "source": [
    "Using my local machine I ran into problems when the Document-Term matrix size became too large. This notebook explored the size of different models and combinations of parameters to see what would be effective in reducing matrix size while keeping sensible topics for modeling."
   ]
  },
  {
   "cell_type": "markdown",
   "metadata": {},
   "source": [
    "### Baseline"
   ]
  },
  {
   "cell_type": "code",
   "execution_count": 4,
   "metadata": {
    "ExecuteTime": {
     "end_time": "2020-08-23T19:01:18.041330Z",
     "start_time": "2020-08-23T19:01:15.098317Z"
    }
   },
   "outputs": [],
   "source": [
    "# Chapters. Basic Countvectorizer, no stemming, remove stop words, uni-grams only\n",
    "cv1 = CountVectorizer(stop_words=stop_words, ngram_range=(1, 1))\n",
    "chapters_cv1 = cv1.fit_transform(chapters)\n",
    "chapters_dtm = pd.DataFrame(chapters_cv1.toarray(), columns=cv1.get_feature_names())"
   ]
  },
  {
   "cell_type": "code",
   "execution_count": 5,
   "metadata": {
    "ExecuteTime": {
     "end_time": "2020-08-23T19:01:18.051126Z",
     "start_time": "2020-08-23T19:01:18.043958Z"
    }
   },
   "outputs": [
    {
     "data": {
      "text/plain": [
       "(704, 48173)"
      ]
     },
     "execution_count": 5,
     "metadata": {},
     "output_type": "execute_result"
    }
   ],
   "source": [
    "chapters_dtm.shape"
   ]
  },
  {
   "cell_type": "code",
   "execution_count": 6,
   "metadata": {
    "ExecuteTime": {
     "end_time": "2020-08-23T19:01:34.838854Z",
     "start_time": "2020-08-23T19:01:18.055062Z"
    }
   },
   "outputs": [
    {
     "name": "stdout",
     "output_type": "stream",
     "text": [
      "\n",
      "Topic  0\n",
      "would, could, one, elayne, woman, even, nynaeve, might, sedai, aes\n",
      "\n",
      "Topic  1\n",
      "would, one, mat, could, back, men, trollocs, demandred, man, like\n",
      "\n",
      "Topic  2\n",
      "rand, one, could, mat, back, would, like, even, man, head\n",
      "\n",
      "Topic  3\n",
      "perrin, would, faile, could, one, men, two, back, man, like\n",
      "\n",
      "Topic  4\n",
      "egwene, would, one, tower, sedai, siuan, could, aes, amyrlin, elaida\n"
     ]
    }
   ],
   "source": [
    "nmf_model = NMF(5)\n",
    "doc_topic = nmf_model.fit_transform(chapters_dtm)\n",
    "\n",
    "display_topics(nmf_model, cv1.get_feature_names(), 10)"
   ]
  },
  {
   "cell_type": "code",
   "execution_count": 7,
   "metadata": {
    "ExecuteTime": {
     "end_time": "2020-08-23T19:01:53.464620Z",
     "start_time": "2020-08-23T19:01:34.841409Z"
    }
   },
   "outputs": [],
   "source": [
    "# Chapters. Same as cv1, but with bi-grams\n",
    "cv2 = CountVectorizer(stop_words=stop_words, ngram_range=(1, 2))\n",
    "chapters_cv2 = cv2.fit_transform(chapters)\n",
    "chapters_dtm2 = pd.DataFrame(chapters_cv2.toarray(), columns=cv2.get_feature_names())"
   ]
  },
  {
   "cell_type": "code",
   "execution_count": 8,
   "metadata": {
    "ExecuteTime": {
     "end_time": "2020-08-23T19:01:53.477641Z",
     "start_time": "2020-08-23T19:01:53.469583Z"
    }
   },
   "outputs": [
    {
     "data": {
      "text/plain": [
       "(704, 1304744)"
      ]
     },
     "execution_count": 8,
     "metadata": {},
     "output_type": "execute_result"
    }
   ],
   "source": [
    "chapters_dtm2.shape"
   ]
  },
  {
   "cell_type": "code",
   "execution_count": 9,
   "metadata": {
    "ExecuteTime": {
     "end_time": "2020-08-23T19:02:09.717391Z",
     "start_time": "2020-08-23T19:01:53.481371Z"
    }
   },
   "outputs": [
    {
     "name": "stdout",
     "output_type": "stream",
     "text": [
      "\n",
      "Topic  0\n",
      "would, could, one, elayne, woman, even, nynaeve, might, sedai, aes\n",
      "\n",
      "Topic  1\n",
      "would, one, mat, could, back, men, trollocs, demandred, man, like\n",
      "\n",
      "Topic  2\n",
      "rand, one, could, mat, back, would, like, even, man, head\n",
      "\n",
      "Topic  3\n",
      "perrin, would, faile, could, one, men, two, back, man, like\n",
      "\n",
      "Topic  4\n",
      "egwene, would, one, tower, sedai, siuan, could, aes, amyrlin, elaida\n"
     ]
    }
   ],
   "source": [
    "nmf_model = NMF(5)\n",
    "doc_topic = nmf_model.fit_transform(chapters_dtm)\n",
    "\n",
    "display_topics(nmf_model, cv1.get_feature_names(), 10)"
   ]
  },
  {
   "cell_type": "markdown",
   "metadata": {},
   "source": [
    "### stemming"
   ]
  },
  {
   "cell_type": "code",
   "execution_count": 10,
   "metadata": {
    "ExecuteTime": {
     "end_time": "2020-08-23T19:03:48.781888Z",
     "start_time": "2020-08-23T19:02:09.720715Z"
    }
   },
   "outputs": [],
   "source": [
    "# Chapters. cv1 with stemming\n",
    "cv1 = CountVectorizer(stop_words=stop_words_stemmed, ngram_range=(1, 1), tokenizer=stem_tokenizer)\n",
    "chapters_cv1 = cv1.fit_transform(chapters)\n",
    "chapters_dtm = pd.DataFrame(chapters_cv1.toarray(), columns=cv1.get_feature_names())"
   ]
  },
  {
   "cell_type": "code",
   "execution_count": 11,
   "metadata": {
    "ExecuteTime": {
     "end_time": "2020-08-23T19:03:48.791566Z",
     "start_time": "2020-08-23T19:03:48.784447Z"
    }
   },
   "outputs": [
    {
     "data": {
      "text/plain": [
       "(704, 33543)"
      ]
     },
     "execution_count": 11,
     "metadata": {},
     "output_type": "execute_result"
    }
   ],
   "source": [
    "chapters_dtm.shape"
   ]
  },
  {
   "cell_type": "code",
   "execution_count": 12,
   "metadata": {
    "ExecuteTime": {
     "end_time": "2020-08-23T19:04:00.507584Z",
     "start_time": "2020-08-23T19:03:48.795584Z"
    }
   },
   "outputs": [
    {
     "name": "stdout",
     "output_type": "stream",
     "text": [
      "\n",
      "Topic  0\n",
      "would, could, one, elayn, woman, nynaev, even, like, hand, might\n",
      "\n",
      "Topic  1\n",
      "would, one, could, mat, trolloc, back, demandr, men, fight, look\n",
      "\n",
      "Topic  2\n",
      "rand, mat, one, could, look, back, would, like, eye, man\n",
      "\n",
      "Topic  3\n",
      "perrin, would, one, fail, could, men, man, like, look, two\n",
      "\n",
      "Topic  4\n",
      "egwen, would, one, siuan, tower, sedai, could, amyrlin, ae, elaida\n"
     ]
    }
   ],
   "source": [
    "nmf_model = NMF(5)\n",
    "doc_topic = nmf_model.fit_transform(chapters_dtm)\n",
    "display_topics(nmf_model, cv1.get_feature_names(), 10)"
   ]
  },
  {
   "cell_type": "markdown",
   "metadata": {},
   "source": [
    "### CV parameters"
   ]
  },
  {
   "cell_type": "code",
   "execution_count": 13,
   "metadata": {
    "ExecuteTime": {
     "end_time": "2020-08-23T19:04:03.985472Z",
     "start_time": "2020-08-23T19:04:00.510991Z"
    }
   },
   "outputs": [],
   "source": [
    "# Chapters. cv1 with min_df\n",
    "cv1 = CountVectorizer(stop_words=stop_words, ngram_range=(1, 1), min_df=2)\n",
    "chapters_cv1 = cv1.fit_transform(chapters)\n",
    "chapters_dtm = pd.DataFrame(chapters_cv1.toarray(), columns=cv1.get_feature_names())"
   ]
  },
  {
   "cell_type": "code",
   "execution_count": 14,
   "metadata": {
    "ExecuteTime": {
     "end_time": "2020-08-23T19:04:03.998120Z",
     "start_time": "2020-08-23T19:04:03.988028Z"
    }
   },
   "outputs": [
    {
     "data": {
      "text/plain": [
       "(704, 25804)"
      ]
     },
     "execution_count": 14,
     "metadata": {},
     "output_type": "execute_result"
    }
   ],
   "source": [
    "chapters_dtm.shape"
   ]
  },
  {
   "cell_type": "code",
   "execution_count": 15,
   "metadata": {
    "ExecuteTime": {
     "end_time": "2020-08-23T19:04:11.869394Z",
     "start_time": "2020-08-23T19:04:04.002110Z"
    }
   },
   "outputs": [
    {
     "name": "stdout",
     "output_type": "stream",
     "text": [
      "\n",
      "Topic  0\n",
      "would, could, one, elayne, woman, even, nynaeve, might, sedai, aes\n",
      "\n",
      "Topic  1\n",
      "would, one, mat, could, back, men, trollocs, demandred, man, like\n",
      "\n",
      "Topic  2\n",
      "rand, one, could, mat, back, would, like, even, man, head\n",
      "\n",
      "Topic  3\n",
      "perrin, would, faile, could, one, men, two, back, man, like\n",
      "\n",
      "Topic  4\n",
      "egwene, would, one, tower, sedai, siuan, could, aes, amyrlin, elaida\n"
     ]
    }
   ],
   "source": [
    "nmf_model = NMF(5)\n",
    "doc_topic = nmf_model.fit_transform(chapters_dtm)\n",
    "display_topics(nmf_model, cv1.get_feature_names(), 10)"
   ]
  },
  {
   "cell_type": "code",
   "execution_count": 16,
   "metadata": {
    "ExecuteTime": {
     "end_time": "2020-08-23T19:04:15.422122Z",
     "start_time": "2020-08-23T19:04:11.874773Z"
    }
   },
   "outputs": [],
   "source": [
    "# Chapters. cv1 with max_df\n",
    "cv1 = CountVectorizer(stop_words=stop_words, ngram_range=(1, 1), max_df=0.9)\n",
    "chapters_cv1 = cv1.fit_transform(chapters)\n",
    "chapters_dtm = pd.DataFrame(chapters_cv1.toarray(), columns=cv1.get_feature_names())"
   ]
  },
  {
   "cell_type": "code",
   "execution_count": 17,
   "metadata": {
    "ExecuteTime": {
     "end_time": "2020-08-23T19:04:15.434244Z",
     "start_time": "2020-08-23T19:04:15.425959Z"
    }
   },
   "outputs": [
    {
     "data": {
      "text/plain": [
       "(704, 48070)"
      ]
     },
     "execution_count": 17,
     "metadata": {},
     "output_type": "execute_result"
    }
   ],
   "source": [
    "chapters_dtm.shape"
   ]
  },
  {
   "cell_type": "code",
   "execution_count": 18,
   "metadata": {
    "ExecuteTime": {
     "end_time": "2020-08-23T19:04:25.563679Z",
     "start_time": "2020-08-23T19:04:15.440712Z"
    }
   },
   "outputs": [
    {
     "name": "stdout",
     "output_type": "stream",
     "text": [
      "\n",
      "Topic  0\n",
      "mat, trollocs, demandred, battle, toward, bloody, elayne, heights, ground, air\n",
      "\n",
      "Topic  1\n",
      "elayne, nynaeve, birgitte, aviendha, room, tower, sure, went, hair, door\n",
      "\n",
      "Topic  2\n",
      "rand, min, aiel, moiraine, lord, dragon, mat, stone, rands, sword\n",
      "\n",
      "Topic  3\n",
      "perrin, faile, lord, aiel, camp, wolves, rivers, wolf, young, gaul\n",
      "\n",
      "Topic  4\n",
      "egwene, tower, siuan, amyrlin, elaida, sisters, hall, mother, gawyn, ajah\n"
     ]
    }
   ],
   "source": [
    "nmf_model = NMF(5)\n",
    "doc_topic = nmf_model.fit_transform(chapters_dtm)\n",
    "display_topics(nmf_model, cv1.get_feature_names(), 10)"
   ]
  },
  {
   "cell_type": "code",
   "execution_count": 19,
   "metadata": {
    "ExecuteTime": {
     "end_time": "2020-08-23T19:04:29.315237Z",
     "start_time": "2020-08-23T19:04:25.569109Z"
    }
   },
   "outputs": [],
   "source": [
    "# Chapters. cv1 with min_df and max_df\n",
    "cv1 = CountVectorizer(stop_words='english', ngram_range=(1, 1), min_df=2, max_df=0.9)\n",
    "chapters_cv1 = cv1.fit_transform(chapters)\n",
    "chapters_dtm = pd.DataFrame(chapters_cv1.toarray(), columns=cv1.get_feature_names())"
   ]
  },
  {
   "cell_type": "code",
   "execution_count": 20,
   "metadata": {
    "ExecuteTime": {
     "end_time": "2020-08-23T19:04:29.326847Z",
     "start_time": "2020-08-23T19:04:29.317731Z"
    }
   },
   "outputs": [
    {
     "data": {
      "text/plain": [
       "(704, 25587)"
      ]
     },
     "execution_count": 20,
     "metadata": {},
     "output_type": "execute_result"
    }
   ],
   "source": [
    "chapters_dtm.shape"
   ]
  },
  {
   "cell_type": "code",
   "execution_count": 21,
   "metadata": {
    "ExecuteTime": {
     "end_time": "2020-08-23T19:04:36.082572Z",
     "start_time": "2020-08-23T19:04:29.333724Z"
    }
   },
   "outputs": [
    {
     "name": "stdout",
     "output_type": "stream",
     "text": [
      "\n",
      "Topic  0\n",
      "mat, trollocs, demandred, battle, bloody, elayne, heights, ground, air, fight\n",
      "\n",
      "Topic  1\n",
      "egwene, tower, siuan, amyrlin, elaida, sisters, hall, mother, gawyn, ajah\n",
      "\n",
      "Topic  2\n",
      "rand, min, aiel, moiraine, lord, dragon, stone, rands, sword, mat\n",
      "\n",
      "Topic  3\n",
      "perrin, faile, lord, aiel, camp, wolves, rivers, wolf, gaul, young\n",
      "\n",
      "Topic  4\n",
      "elayne, nynaeve, birgitte, aviendha, room, tower, sure, went, door, hair\n"
     ]
    }
   ],
   "source": [
    "nmf_model = NMF(5)\n",
    "doc_topic = nmf_model.fit_transform(chapters_dtm)\n",
    "display_topics(nmf_model, cv1.get_feature_names(), 10)"
   ]
  },
  {
   "cell_type": "markdown",
   "metadata": {},
   "source": [
    "### All"
   ]
  },
  {
   "cell_type": "code",
   "execution_count": 22,
   "metadata": {
    "ExecuteTime": {
     "end_time": "2020-08-23T19:06:11.961727Z",
     "start_time": "2020-08-23T19:04:36.100044Z"
    }
   },
   "outputs": [],
   "source": [
    "# Chapters. cv1 with stemming, min_df, max_df\n",
    "cv1 = CountVectorizer(stop_words=stop_words_stemmed, ngram_range=(1, 1), tokenizer=stem_tokenizer, min_df=2, max_df=0.9)\n",
    "chapters_cv1 = cv1.fit_transform(chapters)\n",
    "chapters_dtm = pd.DataFrame(chapters_cv1.toarray(), columns=cv1.get_feature_names())"
   ]
  },
  {
   "cell_type": "code",
   "execution_count": 23,
   "metadata": {
    "ExecuteTime": {
     "end_time": "2020-08-23T19:06:11.970516Z",
     "start_time": "2020-08-23T19:06:11.963727Z"
    }
   },
   "outputs": [
    {
     "data": {
      "text/plain": [
       "(704, 15707)"
      ]
     },
     "execution_count": 23,
     "metadata": {},
     "output_type": "execute_result"
    }
   ],
   "source": [
    "chapters_dtm.shape"
   ]
  },
  {
   "cell_type": "code",
   "execution_count": 24,
   "metadata": {
    "ExecuteTime": {
     "end_time": "2020-08-23T19:06:28.538856Z",
     "start_time": "2020-08-23T19:06:11.975138Z"
    }
   },
   "outputs": [
    {
     "name": "stdout",
     "output_type": "stream",
     "text": [
      "\n",
      "Topic  0\n",
      "trolloc, demandr, fight, mat, sharan, battl, height, power, galad, channel, toward, tam, ground, weav, air\n",
      "\n",
      "Topic  1\n",
      "lord, dragon, morgas, great, niall, year, althor, name, command, aiel, queen, andor, captain, world, high\n",
      "\n",
      "Topic  2\n",
      "rand, dragon, therin, lew, loial, sword, lord, citi, basher, maiden, tam, saidin, hurin, taim, step\n",
      "\n",
      "Topic  3\n",
      "perrin, fail, wolv, wolf, smell, gaul, hopper, whitecloak, slayer, elya, camp, river, scent, lord, berelain\n",
      "\n",
      "Topic  4\n",
      "egwen, amyrlin, tower, elaida, dream, novic, mother, verin, ajah, sitter, hall, sheriam, black, oath, meidani\n",
      "\n",
      "Topic  5\n",
      "mat, thom, bloodi, dice, villag, talman, inn, noal, pull, mayb, glanc, ill, room, burn, coin\n",
      "\n",
      "Topic  6\n",
      "nynaev, elayn, moghedien, channel, thom, lan, rememb, help, juilin, sheriam, braid, dress, weav, mouth, heal\n",
      "\n",
      "Topic  7\n",
      "elayn, birgitt, aviendha, dyelin, andor, queen, caemlyn, ladi, throne, smile, sister, palac, merilil, mother, windfind\n",
      "\n",
      "Topic  8\n",
      "siuan, sister, lean, bryne, myrel, sheriam, amyrlin, lelain, tower, hall, romanda, accept, novic, mother, blue\n",
      "\n",
      "Topic  9\n",
      "moirain, lan, room, warder, amyrlin, tar, valon, accept, year, may, door, merean, power, tower, stone\n",
      "\n",
      "Topic  10\n",
      "aiel, aviendha, wise, spear, ami, maiden, rhuarc, chief, clan, bair, tent, rand, rhuidean, water, shaido\n",
      "\n",
      "Topic  11\n",
      "talman, androl, citi, dragon, lord, trolloc, moridin, jarid, burn, isam, street, aviendha, fight, toward, fire\n",
      "\n",
      "Topic  12\n",
      "tuon, seanchan, wagon, hors, daman, selucia, egeanin, show, suldam, luca, soldier, high, suroth, domon, blood\n",
      "\n",
      "Topic  13\n",
      "cadsuan, verin, sister, althor, harin, alanna, boy, shalon, meris, ashaman, bond, sorilea, weav, semirhag, therin\n",
      "\n",
      "Topic  14\n",
      "gawyn, bryne, tower, soldier, sleet, egwen, warder, sword, camp, guard, nod, walk, toward, step, althor\n",
      "\n",
      "Topic  15\n",
      "min, lean, rand, tower, caralin, coat, room, meant, mean, daman, view, door, help, tear, dress\n",
      "\n",
      "Topic  16\n",
      "room, stone, door, wall, street, sword, black, coat, cloak, suddenli, palac, feet, smile, floor, tabl\n",
      "\n",
      "Topic  17\n",
      "fail, sevanna, gaishain, shaido, galina, therava, alliandr, tent, maighdin, wise, aiel, escap, berelain, carri, camp\n",
      "\n",
      "Topic  18\n",
      "trolloc, loial, hors, lan, ogier, tree, saddl, river, sword, horn, ingtar, warder, ride, night, hill\n",
      "\n",
      "Topic  19\n",
      "sister, tower, elaida, ajah, red, alviarin, novic, amyrlin, black, room, shawl, pevara, sitter, seain, matter\n"
     ]
    },
    {
     "name": "stderr",
     "output_type": "stream",
     "text": [
      "/Users/stephan/anaconda3/envs/metis/lib/python3.8/site-packages/sklearn/decomposition/_nmf.py:1076: ConvergenceWarning: Maximum number of iterations 200 reached. Increase it to improve convergence.\n",
      "  warnings.warn(\"Maximum number of iterations %d reached. Increase it to\"\n"
     ]
    }
   ],
   "source": [
    "nmf_model = NMF(20)\n",
    "doc_topic = nmf_model.fit_transform(chapters_dtm)\n",
    "display_topics(nmf_model, cv1.get_feature_names(), 15)"
   ]
  },
  {
   "cell_type": "code",
   "execution_count": 25,
   "metadata": {
    "ExecuteTime": {
     "end_time": "2020-08-23T19:06:28.554816Z",
     "start_time": "2020-08-23T19:06:28.542974Z"
    }
   },
   "outputs": [
    {
     "data": {
      "text/plain": [
       "(704, 20)"
      ]
     },
     "execution_count": 25,
     "metadata": {},
     "output_type": "execute_result"
    }
   ],
   "source": [
    "doc_topic.shape"
   ]
  },
  {
   "cell_type": "markdown",
   "metadata": {},
   "source": [
    "### Try tf-idf"
   ]
  },
  {
   "cell_type": "code",
   "execution_count": 26,
   "metadata": {
    "ExecuteTime": {
     "end_time": "2020-08-23T19:07:57.249690Z",
     "start_time": "2020-08-23T19:06:28.559167Z"
    }
   },
   "outputs": [],
   "source": [
    "# Chapters. Tf-IDF with stemming, min_df, max_df\n",
    "tf1 = TfidfVectorizer(stop_words=stop_words_stemmed, ngram_range=(1, 1), tokenizer=stem_tokenizer, min_df=2, max_df=0.9)\n",
    "chapters_tf1 = tf1.fit_transform(chapters)\n",
    "chapters_dtm_tf = pd.DataFrame(chapters_tf1.toarray(), columns=tf1.get_feature_names())"
   ]
  },
  {
   "cell_type": "code",
   "execution_count": 27,
   "metadata": {
    "ExecuteTime": {
     "end_time": "2020-08-23T19:07:57.259996Z",
     "start_time": "2020-08-23T19:07:57.252061Z"
    }
   },
   "outputs": [
    {
     "data": {
      "text/plain": [
       "(704, 15707)"
      ]
     },
     "execution_count": 27,
     "metadata": {},
     "output_type": "execute_result"
    }
   ],
   "source": [
    "chapters_dtm_tf.shape"
   ]
  },
  {
   "cell_type": "code",
   "execution_count": 28,
   "metadata": {
    "ExecuteTime": {
     "end_time": "2020-08-23T19:08:01.728086Z",
     "start_time": "2020-08-23T19:07:57.263841Z"
    }
   },
   "outputs": [
    {
     "name": "stdout",
     "output_type": "stream",
     "text": [
      "\n",
      "Topic  0\n",
      "rand, therin, lew, basher, dragon, lord, tam, taim, saidin, maiden, sword, citi, aiel, weiramon, kill\n",
      "\n",
      "Topic  1\n",
      "nynaev, elayn, moghedien, thom, juilin, liandrin, luca, dream, telaranrhiod, door, channel, braid, galad, ship, tanchico\n",
      "\n",
      "Topic  2\n",
      "mat, thom, bloodi, talman, dice, olver, noal, gleeman, gholam, vanin, nalesean, cauthon, inn, mayb, tylin\n",
      "\n",
      "Topic  3\n",
      "perrin, fail, berelain, gaul, hopper, wolv, elya, masema, slayer, wolf, aram, galad, whitecloak, smell, lord\n",
      "\n",
      "Topic  4\n",
      "egwen, amyrlin, sheriam, elaida, tower, verin, novic, sitter, ajah, silviana, romanda, hall, dream, sister, mother\n",
      "\n",
      "Topic  5\n",
      "loial, hurin, rand, ingtar, ogier, verin, selen, horn, fain, lord, sted, waygat, trolloc, sniffer, perrin\n",
      "\n",
      "Topic  6\n",
      "siuan, moirain, sister, sheriam, bryne, elaida, myrel, amyrlin, lelain, tower, novic, romanda, sitter, lean, tamra\n",
      "\n",
      "Topic  7\n",
      "aviendha, aiel, wise, ami, rhuarc, maiden, bair, spear, chief, couladin, shaido, clan, melain, gaishain, rhuidean\n",
      "\n",
      "Topic  8\n",
      "elayn, birgitt, aviendha, dyelin, merilil, vanden, reann, norri, arymilla, alis, andor, windfind, queen, caemlyn, sister\n",
      "\n",
      "Topic  9\n",
      "moirain, lan, trolloc, warder, rand, bukama, zarin, perrin, agelmar, blight, hors, sword, ryne, loial, night\n",
      "\n",
      "Topic  10\n",
      "tuon, egeanin, seanchan, selucia, luca, daman, suldam, domon, jolin, suroth, wagon, tylin, bethamin, teslyn, juilin\n",
      "\n",
      "Topic  11\n",
      "cadsuan, harin, semirhag, sorilea, verin, alanna, meris, althor, shalon, saren, merana, daigian, sister, alivia, graendal\n",
      "\n",
      "Topic  12\n",
      "min, rand, logain, caralin, merana, daman, seanchan, lean, suldam, renna, darlin, ship, aura, view, nynaev\n",
      "\n",
      "Topic  13\n",
      "androl, pevara, taim, logain, emarin, trolloc, gateway, evin, demandr, ashaman, jonneth, nalaam, sharan, talman, dobser\n",
      "\n",
      "Topic  14\n",
      "gawyn, bryne, galad, egwen, sleet, iturald, trolloc, soldier, elayn, armi, camp, fight, tower, forc, sharan\n"
     ]
    }
   ],
   "source": [
    "nmf_model = NMF(15)\n",
    "doc_topic = nmf_model.fit_transform(chapters_dtm_tf)\n",
    "display_topics(nmf_model, tf1.get_feature_names(), 15)"
   ]
  },
  {
   "cell_type": "markdown",
   "metadata": {},
   "source": [
    "### Conclusion"
   ]
  },
  {
   "cell_type": "markdown",
   "metadata": {},
   "source": [
    "It looks like using min_df = 2 and max_df = 0.9 creates a manageable doc_term matrix. It tunes to sensible topics, especially using Tf-IDF. Using bigrams does not impact the quality of topics at all, so I will not be using them"
   ]
  }
 ],
 "metadata": {
  "kernelspec": {
   "display_name": "Python [conda env:metis] *",
   "language": "python",
   "name": "conda-env-metis-py"
  },
  "language_info": {
   "codemirror_mode": {
    "name": "ipython",
    "version": 3
   },
   "file_extension": ".py",
   "mimetype": "text/x-python",
   "name": "python",
   "nbconvert_exporter": "python",
   "pygments_lexer": "ipython3",
   "version": "3.8.3"
  },
  "toc": {
   "base_numbering": 1,
   "nav_menu": {},
   "number_sections": true,
   "sideBar": true,
   "skip_h1_title": false,
   "title_cell": "Table of Contents",
   "title_sidebar": "Contents",
   "toc_cell": false,
   "toc_position": {},
   "toc_section_display": true,
   "toc_window_display": false
  }
 },
 "nbformat": 4,
 "nbformat_minor": 4
}
