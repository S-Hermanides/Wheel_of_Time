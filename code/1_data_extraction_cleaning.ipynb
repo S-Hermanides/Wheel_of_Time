{
 "cells": [
  {
   "cell_type": "code",
   "execution_count": 1,
   "metadata": {
    "ExecuteTime": {
     "end_time": "2020-08-23T19:43:23.541504Z",
     "start_time": "2020-08-23T19:43:22.413759Z"
    }
   },
   "outputs": [],
   "source": [
    "import ebooklib\n",
    "from ebooklib import epub\n",
    "import bs4 as bs\n",
    "import pandas as pd\n",
    "import csv\n",
    "from data_extract_clean import clean_text\n",
    "from sklearn.feature_extraction.text import CountVectorizer\n",
    "import requests\n",
    "from fake_useragent import UserAgent\n",
    "import pandas as pd\n",
    "from data_extract_clean import clean_text, get_links, find_text"
   ]
  },
  {
   "cell_type": "markdown",
   "metadata": {},
   "source": [
    "## Extract eBook and clean text into corpus"
   ]
  },
  {
   "cell_type": "markdown",
   "metadata": {},
   "source": [
    "### By Chapter"
   ]
  },
  {
   "cell_type": "code",
   "execution_count": 2,
   "metadata": {
    "ExecuteTime": {
     "end_time": "2020-08-23T19:43:24.381141Z",
     "start_time": "2020-08-23T19:43:23.545221Z"
    }
   },
   "outputs": [],
   "source": [
    "book = epub.read_epub('/Users/stephan/Data_Science/Metis/Bootcamp/project_4/Book/the_wheel_of_time.epub')"
   ]
  },
  {
   "cell_type": "markdown",
   "metadata": {},
   "source": [
    "The eBook contains differently formatted individual books, so I am defining exclusions and file names that will be treated differently."
   ]
  },
  {
   "cell_type": "code",
   "execution_count": 3,
   "metadata": {
    "ExecuteTime": {
     "end_time": "2020-08-23T19:43:24.394903Z",
     "start_time": "2020-08-23T19:43:24.384094Z"
    }
   },
   "outputs": [],
   "source": [
    "# Special files and exclusions. The eBook contains differently formatted individual books.\n",
    "\n",
    "title_pages = ['OEBPS/9781429961530_tp01.xhtml','OEBPS/title_2.xhtml','OEBPS/title_3.xhtml',\n",
    "               'OEBPS/title_4.xhtml','OEBPS/e9781429960199_tp01.xhtml','OEBPS/title_6.xhtml','OEBPS/title_8.xhtml',\n",
    "               'OEBPS/title_9.xhtml','OEBPS/title_10.xhtml','OEBPS/title_11.xhtml','OEBPS/title_12.xhtml',\n",
    "               'OEBPS/title_13.xhtml','OEBPS/9780765325945_tp01.xhtml','OEBPS/title_15.xhtml','OEBPS/title_7.xhtml']\n",
    "\n",
    "\n",
    "with open('../data_files/exclusions.csv', encoding='utf-8-sig') as f:\n",
    "    reader = csv.reader(f, delimiter=',')\n",
    "    exclusions = [item for sublist in reader for item in sublist]"
   ]
  },
  {
   "cell_type": "code",
   "execution_count": 4,
   "metadata": {
    "ExecuteTime": {
     "end_time": "2020-08-23T19:45:45.478117Z",
     "start_time": "2020-08-23T19:43:24.399812Z"
    }
   },
   "outputs": [],
   "source": [
    "items = []\n",
    "for item in book.get_items():\n",
    "    if item.get_type() == 9 and item.get_name() not in exclusions:\n",
    "        soup = bs.BeautifulSoup(item.get_body_content(),'lxml')\n",
    "        if item.get_name() in title_pages:\n",
    "            if item.get_name() in ['OEBPS/9781429961530_tp01.xhtml','OEBPS/e9781429960199_tp01.xhtml',\n",
    "                                   'OEBPS/9780765325945_tp01.xhtml', 'OEBPS/title_15.xhtml']:\n",
    "                book_name = soup.find('h1', {'class': 'tbook-title'}).text\n",
    "            elif item.get_name() == 'OEBPS/title_9.xhtml':\n",
    "                book_name = soup.find('h1', {'class': 'h1'}).text\n",
    "            else:\n",
    "                book_name = soup.find('h1', {'class': 'book-title'}).text\n",
    "        else:\n",
    "            item_dict = {}\n",
    "            item_dict['book_name'] = book_name\n",
    "            item_dict['item_name']= item.get_name()\n",
    "            item_dict['text'] = soup.get_text(separator=' ', strip=True)\n",
    "            items.append(item_dict)"
   ]
  },
  {
   "cell_type": "code",
   "execution_count": 30,
   "metadata": {
    "ExecuteTime": {
     "end_time": "2020-08-23T19:49:55.735844Z",
     "start_time": "2020-08-23T19:49:55.729207Z"
    }
   },
   "outputs": [],
   "source": [
    "df = pd.DataFrame(items)"
   ]
  },
  {
   "cell_type": "markdown",
   "metadata": {},
   "source": [
    "The final book has a chapter that was split. I am re-combining it below and dropping the extra row"
   ]
  },
  {
   "cell_type": "code",
   "execution_count": 31,
   "metadata": {
    "ExecuteTime": {
     "end_time": "2020-08-23T19:49:57.514967Z",
     "start_time": "2020-08-23T19:49:57.499933Z"
    }
   },
   "outputs": [],
   "source": [
    "chap_15_37 = df[df.item_name == \"OEBPS/chapter37_15.xhtml\"]['text'].item()\n",
    "chap_15_37a = df[df.item_name == \"OEBPS/chapter37_15a.xhtml\"]['text'].item()\n",
    "combined = chap_15_37 + chap_15_37a\n",
    "\n",
    "df.loc[df.item_name == \"OEBPS/chapter37_15.xhtml\", 'text'] = combined\n",
    "i = df[df.item_name == \"OEBPS/chapter37_15a.xhtml\"].index\n",
    "\n",
    "df.drop(i, inplace=True)\n",
    "df.reset_index(inplace=True)"
   ]
  },
  {
   "cell_type": "markdown",
   "metadata": {},
   "source": [
    "Cleaning the text involves removing punctuation, lower casing and expanding contractions"
   ]
  },
  {
   "cell_type": "code",
   "execution_count": 32,
   "metadata": {
    "ExecuteTime": {
     "end_time": "2020-08-23T19:50:03.532680Z",
     "start_time": "2020-08-23T19:49:59.386924Z"
    }
   },
   "outputs": [],
   "source": [
    "df['clean_text'] = df.text.apply(clean_text)"
   ]
  },
  {
   "cell_type": "markdown",
   "metadata": {},
   "source": [
    "I manually gathered some meta-data and collected it into an excel file."
   ]
  },
  {
   "cell_type": "code",
   "execution_count": 33,
   "metadata": {
    "ExecuteTime": {
     "end_time": "2020-08-23T19:50:08.391303Z",
     "start_time": "2020-08-23T19:50:08.192371Z"
    }
   },
   "outputs": [],
   "source": [
    "meta_data = pd.read_excel('../data_files/chapters_and_pov.xlsx', sheet_name='Chapters', \n",
    "                          engine='openpyxl', usecols='A:H')"
   ]
  },
  {
   "cell_type": "code",
   "execution_count": 34,
   "metadata": {
    "ExecuteTime": {
     "end_time": "2020-08-23T19:50:24.741685Z",
     "start_time": "2020-08-23T19:50:24.731880Z"
    }
   },
   "outputs": [],
   "source": [
    "df2 = df.join(meta_data)"
   ]
  },
  {
   "cell_type": "code",
   "execution_count": 36,
   "metadata": {
    "ExecuteTime": {
     "end_time": "2020-08-23T19:50:48.118024Z",
     "start_time": "2020-08-23T19:50:47.993416Z"
    }
   },
   "outputs": [],
   "source": [
    "df2.to_pickle('../data_files/extracted_text.pickle')"
   ]
  },
  {
   "cell_type": "code",
   "execution_count": 10,
   "metadata": {
    "ExecuteTime": {
     "end_time": "2020-08-23T19:45:51.600572Z",
     "start_time": "2020-08-23T19:45:51.564797Z"
    }
   },
   "outputs": [],
   "source": [
    "chapter_corpus = df2.clean_text\n",
    "chapter_corpus.to_pickle('../data_files/chapter_corpus.pickle')"
   ]
  },
  {
   "cell_type": "markdown",
   "metadata": {},
   "source": [
    "### Create corpus for full books"
   ]
  },
  {
   "cell_type": "code",
   "execution_count": 11,
   "metadata": {
    "ExecuteTime": {
     "end_time": "2020-08-23T19:45:51.607321Z",
     "start_time": "2020-08-23T19:45:51.602590Z"
    }
   },
   "outputs": [],
   "source": [
    "book_names = df2.book_title.unique()"
   ]
  },
  {
   "cell_type": "code",
   "execution_count": 12,
   "metadata": {
    "ExecuteTime": {
     "end_time": "2020-08-23T19:45:51.674593Z",
     "start_time": "2020-08-23T19:45:51.611801Z"
    }
   },
   "outputs": [],
   "source": [
    "book_dict = {}\n",
    "for book in book_names:\n",
    "    df = df2[df2.book_title == book]['clean_text']\n",
    "    book_dict[book] = ''.join(df)\n",
    "book_df = pd.DataFrame.from_dict(book_dict, orient='index')\n",
    "book_df.columns = ['clean_text']\n",
    "book_corpus = book_df.clean_text\n",
    "book_corpus.to_pickle('../data_files/book_corpus.pickle')"
   ]
  },
  {
   "cell_type": "markdown",
   "metadata": {},
   "source": [
    "## Extract chapter summaries"
   ]
  },
  {
   "cell_type": "markdown",
   "metadata": {},
   "source": [
    "Extracting summaries from the [WOT Re-Read by Leigh Butler](https://www.tor.com/series/wot-reread/)"
   ]
  },
  {
   "cell_type": "code",
   "execution_count": 13,
   "metadata": {
    "ExecuteTime": {
     "end_time": "2020-08-23T19:45:52.047852Z",
     "start_time": "2020-08-23T19:45:51.677298Z"
    }
   },
   "outputs": [],
   "source": [
    "url = 'https://www.tor.com/features/series/wot-reread/'\n",
    "ua = UserAgent()\n",
    "user_agent = {'User-agent': ua.random}\n",
    "response = requests.get(url, headers=user_agent)"
   ]
  },
  {
   "cell_type": "code",
   "execution_count": 14,
   "metadata": {
    "ExecuteTime": {
     "end_time": "2020-08-23T19:45:52.065783Z",
     "start_time": "2020-08-23T19:45:52.051648Z"
    }
   },
   "outputs": [
    {
     "data": {
      "text/plain": [
       "200"
      ]
     },
     "execution_count": 14,
     "metadata": {},
     "output_type": "execute_result"
    }
   ],
   "source": [
    "response.status_code"
   ]
  },
  {
   "cell_type": "code",
   "execution_count": 15,
   "metadata": {
    "ExecuteTime": {
     "end_time": "2020-08-23T19:45:52.266031Z",
     "start_time": "2020-08-23T19:45:52.069711Z"
    }
   },
   "outputs": [],
   "source": [
    "#Inspection of the re-read website showed only the first 337 links are relevant.\n",
    "links = get_links(response)[:337]"
   ]
  },
  {
   "cell_type": "code",
   "execution_count": 16,
   "metadata": {
    "ExecuteTime": {
     "end_time": "2020-08-23T19:47:29.105797Z",
     "start_time": "2020-08-23T19:45:52.268380Z"
    }
   },
   "outputs": [
    {
     "name": "stdout",
     "output_type": "stream",
     "text": [
      "0 https://www.tor.com/2009/01/20/the-wheel-of-time-re-read-the-eye-of-the-world-part-1/\n",
      "1 https://www.tor.com/2009/01/23/the-wheel-of-time-re-read-the-eye-of-the-world-part-2/\n",
      "2 https://www.tor.com/2009/01/27/the-wheel-of-time-re-read-the-eye-of-the-world-part-3/\n",
      "3 https://www.tor.com/2009/01/30/the-wheel-of-time-re-read-the-eye-of-the-world-part-4/\n",
      "4 https://www.tor.com/2009/02/02/the-wheel-of-time-re-read-the-eye-of-the-world-part-5/\n",
      "5 https://www.tor.com/2009/02/04/the-wheel-of-time-re-read-the-eye-of-the-world-part-6/\n",
      "6 https://www.tor.com/2009/02/06/the-wheel-of-time-re-read-the-eye-of-the-world-part-7/\n",
      "7 https://www.tor.com/2009/02/09/the-wheel-of-time-re-read-the-great-hunt-part-1/\n",
      "8 https://www.tor.com/2009/02/11/the-wheel-of-time-re-read-the-great-hunt-part-2/\n",
      "9 https://www.tor.com/2009/02/13/the-wheel-of-time-re-read-the-great-hunt-part-3/\n",
      "10 https://www.tor.com/2009/02/16/the-wheel-of-time-re-read-the-great-hunt-part-4/\n",
      "11 https://www.tor.com/2009/02/18/the-wheel-of-time-re-read-the-great-hunt-part-5/\n",
      "12 https://www.tor.com/2009/02/20/the-wheel-of-time-re-read-the-great-hunt-part-6/\n",
      "13 https://www.tor.com/2009/02/23/the-wheel-of-time-re-read-the-great-hunt-part-7/\n",
      "14 https://www.tor.com/2009/02/25/the-wheel-of-time-re-read-the-great-hunt-part-8/\n",
      "15 https://www.tor.com/2009/02/27/the-wheel-of-time-re-read-the-great-hunt-part-9/\n",
      "16 https://www.tor.com/2009/03/02/the-wheel-of-time-re-read-the-dragon-reborn-part-1/\n",
      "17 https://www.tor.com/2009/03/04/the-wheel-of-time-re-read-the-dragon-reborn-part-2/\n",
      "18 https://www.tor.com/2009/03/06/the-wheel-of-time-re-read-the-dragon-reborn-part-3/\n",
      "19 https://www.tor.com/2009/03/09/the-wheel-of-time-re-read-the-dragon-reborn-part-4/\n",
      "20 https://www.tor.com/2009/03/11/the-wheel-of-time-re-read-the-dragon-reborn-part-5/\n",
      "21 https://www.tor.com/2009/03/13/the-wheel-of-time-re-read-the-dragon-reborn-part-6/\n",
      "22 https://www.tor.com/2009/03/16/the-wheel-of-time-re-read-the-dragon-reborn-part-7/\n",
      "23 https://www.tor.com/2009/03/18/the-wheel-of-time-re-read-the-dragon-reborn-part-8/\n",
      "24 https://www.tor.com/2009/03/20/the-wheel-of-time-re-read-the-dragon-reborn-part-9/\n",
      "25 https://www.tor.com/2009/03/23/the-wheel-of-time-re-read-the-shadow-rising-part-1/\n",
      "26 https://www.tor.com/2009/03/25/the-wheel-of-time-re-read-the-shadow-rising-part-2/\n",
      "27 https://www.tor.com/2009/03/27/the-wheel-of-time-re-read-the-shadow-rising-part-3/\n",
      "28 https://www.tor.com/2009/03/30/the-wheel-of-time-re-read-the-shadow-rising-part-4/\n",
      "29 https://www.tor.com/2009/04/01/the-wheel-of-time-re-read-the-shadow-rising-part-5/\n",
      "30 https://www.tor.com/2009/04/03/the-wheel-of-time-re-read-the-shadow-rising-part-6/\n",
      "31 https://www.tor.com/2009/04/06/the-wheel-of-time-re-read-the-shadow-rising-part-7/\n",
      "32 https://www.tor.com/2009/04/08/the-wheel-of-time-re-read-the-shadow-rising-part-8/\n",
      "33 https://www.tor.com/2009/04/10/the-wheel-of-time-re-read-the-shadow-rising-part-9/\n",
      "34 https://www.tor.com/2009/04/13/the-wheel-of-time-re-read-the-shadow-rising-part-10/\n",
      "35 https://www.tor.com/2009/04/24/the-wheel-of-time-re-read-the-shadow-rising-part-11/\n",
      "36 https://www.tor.com/2009/04/27/the-wheel-of-time-re-read-the-shadow-rising-part-12/\n",
      "37 https://www.tor.com/2009/04/29/the-wheel-of-time-re-read-the-shadow-rising-part-13/\n",
      "38 https://www.tor.com/2009/05/01/the-wheel-of-time-re-read-the-shadow-rising-part-14/\n",
      "39 https://www.tor.com/2009/05/06/the-wheel-of-time-re-read-the-shadow-rising-part-15/\n",
      "40 https://www.tor.com/2009/05/08/the-wheel-of-time-re-read-the-shadow-rising-part-16/\n",
      "41 https://www.tor.com/2009/05/11/the-wheel-of-time-re-read-the-shadow-rising-part-17/\n",
      "42 https://www.tor.com/2009/05/13/the-wheel-of-time-re-read-the-shadow-rising-part-18/\n",
      "43 https://www.tor.com/2009/05/15/the-wheel-of-time-re-read-the-shadow-rising-part-19/\n",
      "44 https://www.tor.com/2009/05/18/the-wheel-of-time-re-read-the-shadow-rising-part-20/\n",
      "45 https://www.tor.com/2009/05/20/the-wheel-of-time-re-read-the-shadow-rising-part-21/\n",
      "46 https://www.tor.com/2009/05/27/the-wheel-of-time-re-read-the-fires-of-heaven-part-1/\n",
      "47 https://www.tor.com/2009/05/29/the-wheel-of-time-re-read-the-fires-of-heaven-part-2/\n",
      "48 https://www.tor.com/2009/06/01/the-wheel-of-time-re-read-the-fires-of-heaven-part-3/\n",
      "49 https://www.tor.com/2009/06/03/the-wheel-of-time-re-read-the-fires-of-heaven-part-4/\n",
      "50 https://www.tor.com/2009/06/05/the-wheel-of-time-re-read-the-fires-of-heaven-part-5/\n",
      "51 https://www.tor.com/2009/06/08/the-wheel-of-time-re-read-the-fires-of-heaven-part-6/\n",
      "52 https://www.tor.com/2009/06/10/the-wheel-of-time-re-read-the-fires-of-heaven-part-7/\n",
      "53 https://www.tor.com/2009/06/12/the-wheel-of-time-re-read-the-fires-of-heaven-part-8/\n",
      "54 https://www.tor.com/2009/06/15/the-wheel-of-time-re-read-the-fires-of-heaven-part-9/\n",
      "55 https://www.tor.com/2009/06/17/the-wheel-of-time-re-read-the-fires-of-heaven-part-10/\n",
      "56 https://www.tor.com/2009/06/19/the-wheel-of-time-re-read-the-fires-of-heaven-part-11/\n",
      "57 https://www.tor.com/2009/06/24/the-wheel-of-time-re-read-the-fires-of-heaven-part-12/\n",
      "58 https://www.tor.com/2009/06/26/the-wheel-of-time-re-read-the-fires-of-heaven-part-13/\n",
      "59 https://www.tor.com/2009/06/29/the-wheel-of-time-re-read-the-fires-of-heaven-part-14/\n",
      "60 https://www.tor.com/2009/07/01/the-wheel-of-time-re-read-the-fires-of-heaven-part-15/\n",
      "61 https://www.tor.com/2009/07/03/the-wheel-of-time-re-read-the-fires-of-heaven-part-16/\n",
      "62 https://www.tor.com/2009/07/06/the-wheel-of-time-re-read-the-fires-of-heaven-part-17/\n",
      "63 https://www.tor.com/2009/07/08/the-wheel-of-time-re-read-the-fires-of-heaven-part-18/\n",
      "64 https://www.tor.com/2009/07/10/the-wheel-of-time-re-read-the-fires-of-heaven-part-19/\n",
      "65 https://www.tor.com/2009/07/13/the-wheel-of-time-re-read-the-fires-of-heaven-part-20/\n",
      "66 https://www.tor.com/2009/07/15/the-wheel-of-time-re-read-the-fires-of-heaven-part-21/\n",
      "67 https://www.tor.com/2009/07/17/the-wheel-of-time-re-read-the-fires-of-heaven-part-22/\n",
      "68 https://www.tor.com/2009/07/22/the-wheel-of-time-re-read-the-fires-of-heaven-part-23/\n",
      "69 https://www.tor.com/2009/08/03/the-wheel-of-time-re-read-the-fires-of-heaven-part-24/\n",
      "70 https://www.tor.com/2009/08/05/the-wheel-of-time-re-read-the-fires-of-heaven-part-25/\n",
      "71 https://www.tor.com/2009/08/07/the-wheel-of-time-re-read-lord-of-chaos-part-1/\n",
      "72 https://www.tor.com/2009/08/10/the-wheel-of-time-re-read-lord-of-chaos-part-2/\n",
      "73 https://www.tor.com/2009/08/12/the-wheel-of-time-re-read-lord-of-chaos-part-3/\n",
      "74 https://www.tor.com/2009/08/14/the-wheel-of-time-re-read-lord-of-chaos-part-4/\n",
      "75 https://www.tor.com/2009/08/17/the-wheel-of-time-re-read-lord-of-chaos-part-5/\n",
      "76 https://www.tor.com/2009/08/19/the-wheel-of-time-re-read-lord-of-chaos-part-6/\n",
      "77 https://www.tor.com/2009/08/21/the-wheel-of-time-re-read-lord-of-chaos-part-7/\n",
      "78 https://www.tor.com/2009/08/24/the-wheel-of-time-re-read-lord-of-chaos-part-8/\n",
      "79 https://www.tor.com/2009/08/26/the-wheel-of-time-re-read-lord-of-chaos-part-9/\n",
      "80 https://www.tor.com/2009/08/28/the-wheel-of-time-re-read-lord-of-chaos-part-10/\n",
      "81 https://www.tor.com/2009/08/31/the-wheel-of-time-re-read-lord-of-chaos-part-11/\n",
      "82 https://www.tor.com/2009/09/02/the-wheel-of-time-re-read-lord-of-chaos-part-12/\n",
      "83 https://www.tor.com/2009/09/04/the-wheel-of-time-re-read-lord-of-chaos-part-13/\n",
      "84 https://www.tor.com/2009/09/07/the-wheel-of-time-re-read-lord-of-chaos-part-14/\n",
      "85 https://www.tor.com/2009/09/09/the-wheel-of-time-re-read-lord-of-chaos-part-15/\n",
      "86 https://www.tor.com/2009/09/11/the-wheel-of-time-re-read-lord-of-chaos-part-16/\n",
      "87 https://www.tor.com/2009/09/14/the-wheel-of-time-re-read-lord-of-chaos-part-17/\n",
      "88 https://www.tor.com/2009/09/16/the-wheel-of-time-re-read-lord-of-chaos-part-18/\n",
      "89 https://www.tor.com/2009/09/18/the-wheel-of-time-re-read-lord-of-chaos-part-19/\n",
      "90 https://www.tor.com/2009/09/21/the-wheel-of-time-re-read-lord-of-chaos-part-20/\n",
      "91 https://www.tor.com/2009/09/23/the-wheel-of-time-re-read-lord-of-chaos-part-21/\n",
      "92 https://www.tor.com/2009/09/25/the-wheel-of-time-re-read-lord-of-chaos-part-22/\n",
      "93 https://www.tor.com/2009/09/28/the-wheel-of-time-re-read-lord-of-chaos-part-23/\n",
      "94 https://www.tor.com/2009/09/30/the-wheel-of-time-re-read-lord-of-chaos-part-24/\n",
      "95 https://www.tor.com/2009/10/05/the-wheel-of-time-re-read-lord-of-chaos-part-25/\n"
     ]
    },
    {
     "name": "stdout",
     "output_type": "stream",
     "text": [
      "96 https://www.tor.com/2009/10/07/the-wheel-of-time-re-read-lord-of-chaos-part-26/\n",
      "97 https://www.tor.com/2009/10/09/the-wheel-of-time-re-read-lord-of-chaos-part-27/\n",
      "98 https://www.tor.com/2009/10/12/the-wheel-of-time-re-read-lord-of-chaos-part-28/\n",
      "99 https://www.tor.com/2009/10/14/the-wheel-of-time-re-read-lord-of-chaos-part-29/\n",
      "100 https://www.tor.com/2009/10/16/the-wheel-of-time-re-read-lord-of-chaos-part-30/\n",
      "101 https://www.tor.com/2009/10/19/the-wheel-of-time-re-read-lord-of-chaos-part-31/\n",
      "102 https://www.tor.com/2009/12/07/the-wheel-of-time-re-read-a-crown-of-swords-part-1/\n",
      "103 https://www.tor.com/2009/12/11/the-wheel-of-time-re-read-a-crown-of-swords-part-2/\n",
      "104 https://www.tor.com/2009/12/14/the-wheel-of-time-re-read-a-crown-of-swords-part-3/\n",
      "105 https://www.tor.com/2009/12/18/the-wheel-of-time-re-read-a-crown-of-swords-part-4/\n",
      "106 https://www.tor.com/2010/01/04/the-wheel-of-time-re-read-a-crown-of-swords-part-5/\n",
      "107 https://www.tor.com/2010/01/08/the-wheel-of-time-re-read-a-crown-of-swords-part-6/\n",
      "108 https://www.tor.com/2010/01/11/the-wheel-of-time-re-read-a-crown-of-swords-part-7/\n",
      "109 https://www.tor.com/2010/01/15/the-wheel-of-time-re-read-a-crown-of-swords-part-8/\n",
      "110 https://www.tor.com/2010/01/22/the-wheel-of-time-re-read-a-crown-of-swords-part-9/\n",
      "111 https://www.tor.com/2010/01/29/the-wheel-of-time-re-read-a-crown-of-swords-part-10/\n",
      "112 https://www.tor.com/2010/02/05/the-wheel-of-time-re-read-a-crown-of-swords-part-11/\n",
      "113 https://www.tor.com/2010/02/12/the-wheel-of-time-re-read-a-crown-of-swords-part-12/\n",
      "114 https://www.tor.com/2010/02/19/the-wheel-of-time-re-read-a-crown-of-swords-part-13/\n",
      "115 https://www.tor.com/2010/02/26/the-wheel-of-time-re-read-a-crown-of-swords-part-14/\n",
      "116 https://www.tor.com/2010/03/05/the-wheel-of-time-re-read-a-crown-of-swords-part-15/\n",
      "117 https://www.tor.com/2010/03/12/the-wheel-of-time-re-read-a-crown-of-swords-part-16/\n",
      "118 https://www.tor.com/2010/03/19/the-wheel-of-time-re-read-a-crown-of-swords-part-17/\n",
      "119 https://www.tor.com/2010/03/26/the-wheel-of-time-re-read-a-crown-of-swords-part-18/\n",
      "120 https://www.tor.com/2010/04/02/the-wheel-of-time-re-read-a-crown-of-swords-part-19/\n",
      "121 https://www.tor.com/2010/04/06/the-wheel-of-time-re-read-a-crown-of-swords-part-20/\n",
      "122 https://www.tor.com/2010/04/09/the-wheel-of-time-re-read-a-crown-of-swords-part-21/\n",
      "123 https://www.tor.com/2010/04/13/the-wheel-of-time-re-read-a-crown-of-swords-part-22/\n",
      "124 https://www.tor.com/2010/04/16/the-wheel-of-time-re-read-a-crown-of-swords-part-23/\n",
      "125 https://www.tor.com/2010/04/20/the-wheel-of-time-re-read-a-crown-of-swords-part-24/\n",
      "126 https://www.tor.com/2010/04/23/the-wheel-of-time-re-read-the-path-of-daggers-part-1/\n",
      "127 https://www.tor.com/2010/04/27/the-wheel-of-time-re-read-the-path-of-daggers-part-2/\n",
      "128 https://www.tor.com/2010/04/30/the-wheel-of-time-re-read-the-path-of-daggers-part-3/\n",
      "129 https://www.tor.com/2010/05/04/the-wheel-of-time-re-read-the-path-of-daggers-part-4/\n",
      "130 https://www.tor.com/2010/05/07/the-wheel-of-time-re-read-the-path-of-daggers-part-5/\n",
      "131 https://www.tor.com/2010/05/11/the-wheel-of-time-re-read-the-path-of-daggers-part-6/\n",
      "132 https://www.tor.com/2010/05/14/the-wheel-of-time-re-read-the-path-of-daggers-part-7/\n",
      "133 https://www.tor.com/2010/05/18/the-wheel-of-time-re-read-the-path-of-daggers-part-8/\n",
      "134 https://www.tor.com/2010/05/21/the-wheel-of-time-re-read-the-path-of-daggers-part-9/\n",
      "135 https://www.tor.com/2010/05/25/the-wheel-of-time-re-read-the-path-of-daggers-part-10/\n",
      "136 https://www.tor.com/2010/05/28/the-wheel-of-time-re-read-the-path-of-daggers-part-11/\n",
      "137 https://www.tor.com/2010/06/04/the-wheel-of-time-re-read-the-path-of-daggers-part-12/\n",
      "138 https://www.tor.com/2010/06/08/the-wheel-of-time-re-read-the-path-of-daggers-part-13/\n",
      "139 https://www.tor.com/2010/06/11/the-wheel-of-time-re-read-the-path-of-daggers-part-14/\n",
      "140 https://www.tor.com/2010/06/15/the-wheel-of-time-re-read-the-path-of-daggers-part-15/\n",
      "141 https://www.tor.com/2010/06/18/the-wheel-of-time-re-read-the-path-of-daggers-part-16/\n",
      "142 https://www.tor.com/2010/06/22/the-wheel-of-time-re-read-the-path-of-daggers-part-17/\n",
      "143 https://www.tor.com/2010/06/25/the-wheel-of-time-re-read-the-path-of-daggers-part-18/\n",
      "144 https://www.tor.com/2010/06/29/the-wheel-of-time-re-read-the-path-of-daggers-part-19/\n",
      "145 https://www.tor.com/2010/07/13/the-wheel-of-time-re-read-winters-heart-part-1/\n",
      "146 https://www.tor.com/2010/07/16/the-wheel-of-time-re-read-winters-heart-part-2/\n",
      "147 https://www.tor.com/2010/07/20/the-wheel-of-time-re-read-winters-heart-part-3/\n",
      "148 https://www.tor.com/2010/07/23/the-wheel-of-time-re-read-winters-heart-part-4/\n",
      "149 https://www.tor.com/2010/07/27/the-wheel-of-time-re-read-winters-heart-part-5/\n",
      "150 https://www.tor.com/2010/07/30/the-wheel-of-time-re-read-winters-heart-part-6/\n",
      "151 https://www.tor.com/2010/08/03/the-wheel-of-time-re-read-winters-heart-part-7/\n",
      "152 https://www.tor.com/2010/08/06/the-wheel-of-time-re-read-winters-heart-part-8/\n",
      "153 https://www.tor.com/2010/08/13/the-wheel-of-time-re-read-winters-heart-part-9/\n",
      "154 https://www.tor.com/2010/08/17/the-wheel-of-time-re-read-winters-heart-part-10/\n",
      "155 https://www.tor.com/2010/08/20/the-wheel-of-time-re-read-winters-heart-part-11/\n",
      "156 https://www.tor.com/2010/08/24/the-wheel-of-time-re-read-winters-heart-part-12/\n",
      "157 https://www.tor.com/2010/08/27/the-wheel-of-time-re-read-winters-heart-part-13/\n",
      "158 https://www.tor.com/2010/08/31/the-wheel-of-time-re-read-winters-heart-part-14/\n",
      "159 https://www.tor.com/2010/09/03/the-wheel-of-time-re-read-winters-heart-part-15/\n",
      "160 https://www.tor.com/2010/09/10/the-wheel-of-time-re-read-winters-heart-part-16/\n",
      "161 https://www.tor.com/2010/09/14/the-wheel-of-time-re-read-winters-heart-part-17/\n",
      "162 https://www.tor.com/2010/09/17/the-wheel-of-time-re-read-winters-heart-part-18/\n",
      "163 https://www.tor.com/2010/09/21/the-wheel-of-time-re-read-winters-heart-part-19/\n",
      "164 https://www.tor.com/2010/09/28/the-wheel-of-time-re-read-winters-heart-part-20/\n",
      "165 https://www.tor.com/2010/10/15/the-wheel-of-time-re-read-winters-heart-part-21/\n",
      "166 https://www.tor.com/2010/10/22/the-wheel-of-time-re-read-winters-heart-part-22/\n",
      "167 https://www.tor.com/2010/10/29/the-wheel-of-time-re-read-winters-heart-part-23/\n",
      "168 https://www.tor.com/2010/11/16/the-wheel-of-time-re-read-crossroads-of-twilight-part-1/\n",
      "169 https://www.tor.com/2010/11/19/the-wheel-of-time-re-read-crossroads-of-twilight-prologue-part-2/\n",
      "170 https://www.tor.com/2010/11/23/the-wheel-of-time-re-read-crossroads-of-twilight-prologue-part-3/\n",
      "171 https://www.tor.com/2010/11/26/the-wheel-of-time-re-read-crossroads-of-twilight-part-4/\n",
      "172 https://www.tor.com/2010/11/30/the-wheel-of-time-re-read-crossroads-of-twilight-part-5/\n",
      "173 https://www.tor.com/2010/12/03/the-wheel-of-time-re-read-crossroads-of-twilight-part-6/\n",
      "174 https://www.tor.com/2010/12/07/the-wheel-of-time-re-read-crossroads-of-twilight-part-7/\n",
      "175 https://www.tor.com/2010/12/10/the-wheel-of-time-re-read-crossroads-of-twilight-part-8/\n",
      "176 https://www.tor.com/2010/12/14/the-wheel-of-time-re-read-crossroads-of-twilight-part-9/\n",
      "177 https://www.tor.com/2010/12/21/the-wheel-of-time-re-read-crossroads-of-twilight-part-10/\n",
      "178 https://www.tor.com/2010/12/28/the-wheel-of-time-re-read-crossroads-of-twilight-part-11/\n",
      "179 https://www.tor.com/2011/01/07/the-wheel-of-time-re-read-crossroads-of-twilight-part-12/\n",
      "180 https://www.tor.com/2011/01/11/the-wheel-of-time-re-read-crossroads-of-twilight-part-13/\n",
      "181 https://www.tor.com/2011/01/14/the-wheel-of-time-re-read-crossroads-of-twilight-part-14/\n",
      "182 https://www.tor.com/2011/01/18/the-wheel-of-time-re-read-crossroads-of-twilight-part-15/\n",
      "183 https://www.tor.com/2011/01/21/the-wheel-of-time-re-read-crossroads-of-twilight-part-16/\n",
      "184 https://www.tor.com/2011/01/25/the-wheel-of-time-re-read-crossroads-of-twilight-part-17/\n",
      "185 https://www.tor.com/2011/01/28/the-wheel-of-time-re-read-crossroads-of-twilight-part-18/\n",
      "186 https://www.tor.com/2011/02/01/the-wheel-of-time-re-read-crossroads-of-twilight-part-19/\n",
      "187 https://www.tor.com/2011/02/08/the-wheel-of-time-re-read-new-spring-part-1/\n",
      "188 https://www.tor.com/2011/02/11/the-wheel-of-time-re-read-new-spring-part-2/\n",
      "189 https://www.tor.com/2011/02/15/the-wheel-of-time-re-read-new-spring-part-3/\n"
     ]
    },
    {
     "name": "stdout",
     "output_type": "stream",
     "text": [
      "190 https://www.tor.com/2011/02/18/the-wheel-of-time-re-read-new-spring-part-4/\n",
      "191 https://www.tor.com/2011/02/22/the-wheel-of-time-re-read-new-spring-part-5/\n",
      "192 https://www.tor.com/2011/02/25/the-wheel-of-time-re-read-new-spring-part-6/\n",
      "193 https://www.tor.com/2011/03/04/the-wheel-of-time-re-read-new-spring-part-7/\n",
      "194 https://www.tor.com/2011/03/08/the-wheel-of-time-re-read-new-spring-part-8/\n",
      "195 https://www.tor.com/2011/03/11/the-wheel-of-time-re-read-new-spring-part-9/\n",
      "196 https://www.tor.com/2011/03/15/the-wheel-of-time-re-read-new-spring-part-10/\n",
      "197 https://www.tor.com/2011/03/22/the-wheel-of-time-re-read-new-spring-part-11/\n",
      "198 https://www.tor.com/2011/03/29/the-wheel-of-time-re-read-new-spring-part-12/\n",
      "199 https://www.tor.com/2011/04/05/the-wheel-of-time-re-read-new-spring-part-13/\n",
      "200 https://www.tor.com/2011/04/12/the-wheel-of-time-re-read-knife-of-dreams-part-1/\n",
      "201 https://www.tor.com/2011/04/26/the-wheel-of-time-re-read-knife-of-dreams-part-2/\n",
      "202 https://www.tor.com/2011/05/03/the-wheel-of-time-re-read-knife-of-dreams-part-3/\n",
      "203 https://www.tor.com/2011/05/10/the-wheel-of-time-re-read-knife-of-dreams-part-4/\n",
      "204 https://www.tor.com/2011/05/17/the-wheel-of-time-re-read-knife-of-dreams-part-5/\n",
      "205 https://www.tor.com/2011/05/24/the-wheel-of-time-re-read-knife-of-dreams-part-6/\n",
      "206 https://www.tor.com/2011/05/31/the-wheel-of-time-re-read-knife-of-dreams-part-7/\n",
      "207 https://www.tor.com/2011/06/07/the-wheel-of-time-re-read-knife-of-dreams-part-8/\n",
      "208 https://www.tor.com/2011/06/14/the-wheel-of-time-re-read-knife-of-dreams-part-9/\n",
      "209 https://www.tor.com/2011/06/21/the-wheel-of-time-re-read-knife-of-dreams-part-10/\n",
      "210 https://www.tor.com/2011/06/28/the-wheel-of-time-re-read-knife-of-dreams-part-11/\n",
      "211 https://www.tor.com/2011/07/05/the-wheel-of-time-re-read-knife-of-dreams-part-12/\n",
      "212 https://www.tor.com/2011/07/12/the-wheel-of-time-re-read-knife-of-dreams-part-13/\n",
      "213 https://www.tor.com/2011/07/19/the-wheel-of-time-re-read-knife-of-dreams-part-14/\n",
      "214 https://www.tor.com/2011/07/26/the-wheel-of-time-re-read-knife-of-dreams-part-15/\n",
      "215 https://www.tor.com/2011/08/02/the-wheel-of-time-re-read-knife-of-dreams-part-16/\n",
      "216 https://www.tor.com/2011/08/09/the-wheel-of-time-re-read-knife-of-dreams-part-17/\n",
      "217 https://www.tor.com/2011/08/16/the-wheel-of-time-re-read-knife-of-dreams-part-18/\n",
      "218 https://www.tor.com/2011/08/23/the-wheel-of-time-re-read-knife-of-dreams-part-19/\n",
      "219 https://www.tor.com/2011/08/30/the-wheel-of-time-re-read-knife-of-dreams-part-20/\n",
      "220 https://www.tor.com/2011/09/06/the-wheel-of-time-re-read-knife-of-dreams-part-21/\n",
      "221 https://www.tor.com/2011/09/20/the-wheel-of-time-re-read-the-gathering-storm-part-1/\n",
      "222 https://www.tor.com/2011/09/27/the-wheel-of-time-re-read-the-gathering-storm-part-2/\n",
      "223 https://www.tor.com/2011/10/04/the-wheel-of-time-re-read-the-gathering-storm-part-3/\n",
      "224 https://www.tor.com/2011/10/11/the-wheel-of-time-re-read-the-gathering-storm-part-4/\n",
      "225 https://www.tor.com/2011/10/18/the-wheel-of-time-re-read-the-gathering-storm-part-5/\n",
      "226 https://www.tor.com/2011/10/25/the-wheel-of-time-re-read-the-gathering-storm-part-6/\n",
      "227 https://www.tor.com/2011/11/01/the-wheel-of-time-re-read-the-gathering-storm-part-7/\n",
      "228 https://www.tor.com/2011/11/08/the-wheel-of-time-re-read-the-gathering-storm-part-8/\n",
      "229 https://www.tor.com/2011/11/22/the-wheel-of-time-re-read-the-gathering-storm-part-9/\n",
      "230 https://www.tor.com/2011/11/29/the-wheel-of-time-re-read-the-gathering-storm-part-10/\n",
      "231 https://www.tor.com/2011/12/06/the-wheel-of-time-re-read-the-gathering-storm-part-11/\n",
      "232 https://www.tor.com/2011/12/13/the-wheel-of-time-re-read-the-gathering-storm-part-12/\n",
      "233 https://www.tor.com/2011/12/20/the-wheel-of-time-re-read-the-gathering-storm-part-13/\n",
      "234 https://www.tor.com/2012/01/10/the-wheel-of-time-re-read-the-gathering-storm-part-14/\n",
      "235 https://www.tor.com/2012/01/17/the-wheel-of-time-re-read-the-gathering-storm-part-15/\n",
      "236 https://www.tor.com/2012/01/24/the-wheel-of-time-re-read-the-gathering-storm-part-16/\n",
      "237 https://www.tor.com/2012/01/31/the-wheel-of-time-re-read-the-gathering-storm-part-17/\n",
      "238 https://www.tor.com/2012/02/07/the-wheel-of-time-re-read-the-gathering-storm-part-18/\n",
      "239 https://www.tor.com/2012/02/14/the-wheel-of-time-re-read-the-gathering-storm-part-19/\n",
      "240 https://www.tor.com/2012/02/21/the-wheel-of-time-re-read-the-gathering-storm-part-20/\n",
      "241 https://www.tor.com/2012/02/28/the-wheel-of-time-re-read-the-gathering-storm-part-21/\n",
      "242 https://www.tor.com/2012/03/06/the-wheel-of-time-re-read-the-gathering-storm-part-22/\n",
      "243 https://www.tor.com/2012/03/13/the-wheel-of-time-re-read-the-gathering-storm-part-23/\n",
      "244 https://www.tor.com/2012/03/20/the-wheel-of-time-re-read-the-gathering-storm-part-24/\n",
      "245 https://www.tor.com/2012/03/27/the-wheel-of-time-re-read-the-gathering-storm-part-25/\n",
      "246 https://www.tor.com/2012/04/03/the-wheel-of-time-re-read-the-gathering-storm-part-26/\n",
      "247 https://www.tor.com/2012/04/10/the-wheel-of-time-re-read-the-gathering-storm-part-27/\n",
      "248 https://www.tor.com/2012/04/17/the-wheel-of-time-re-read-the-gathering-storm-part-28/\n",
      "249 https://www.tor.com/2012/05/15/the-wheel-of-time-re-read-towers-of-midnight-part-1/\n",
      "250 https://www.tor.com/2012/05/22/the-wheel-of-time-re-read-towers-of-midnight-part-2/\n",
      "251 https://www.tor.com/2012/05/29/the-wheel-of-time-re-read-towers-of-midnight-part-3/\n",
      "252 https://www.tor.com/2012/06/05/the-wheel-of-time-re-read-towers-of-midnight-part-4/\n",
      "253 https://www.tor.com/2012/06/12/the-wheel-of-time-re-read-towers-of-midnight-part-5/\n",
      "254 https://www.tor.com/2012/06/19/the-wheel-of-time-re-read-towers-of-midnight-part-6/\n",
      "255 https://www.tor.com/2012/06/26/the-wheel-of-time-re-read-towers-of-midnight-part-7/\n",
      "256 https://www.tor.com/2012/07/03/the-wheel-of-time-re-read-towers-of-midnight-part-8/\n",
      "257 https://www.tor.com/2012/07/10/the-wheel-of-time-re-read-towers-of-midnight-part-9/\n",
      "258 https://www.tor.com/2012/07/17/the-wheel-of-time-re-read-towers-of-midnight-part-10/\n",
      "259 https://www.tor.com/2012/07/24/the-wheel-of-time-re-read-towers-of-midnight-part-11/\n",
      "260 https://www.tor.com/2012/07/31/the-wheel-of-time-re-read-towers-of-midnight-part-12/\n",
      "261 https://www.tor.com/2012/08/07/the-wheel-of-time-re-read-towers-of-midnight-part-13/\n",
      "262 https://www.tor.com/2012/08/14/the-wheel-of-time-re-read-towers-of-midnight-part-14/\n",
      "263 https://www.tor.com/2012/08/21/the-wheel-of-time-re-read-towers-of-midnight-part-15/\n",
      "264 https://www.tor.com/2012/08/28/the-wheel-of-time-re-read-towers-of-midnight-part-16/\n",
      "265 https://www.tor.com/2012/09/04/the-wheel-of-time-re-read-towers-of-midnight-part-17/\n",
      "266 https://www.tor.com/2012/09/11/the-wheel-of-time-re-read-towers-of-midnight-part-18/\n",
      "267 https://www.tor.com/2012/09/18/the-wheel-of-time-re-read-towers-of-midnight-part-19/\n",
      "268 https://www.tor.com/2012/09/25/the-wheel-of-time-re-read-towers-of-midnight-part-20/\n",
      "269 https://www.tor.com/2012/10/02/the-wheel-of-time-re-read-towers-of-midnight-part-21/\n",
      "270 https://www.tor.com/2012/10/16/the-wheel-of-time-re-read-towers-of-midnight-part-22/\n",
      "271 https://www.tor.com/2012/10/23/the-wheel-of-time-re-read-towers-of-midnight-part-23/\n",
      "272 https://www.tor.com/2012/10/30/the-wheel-of-time-re-read-towers-of-midnight-part-24/\n",
      "273 https://www.tor.com/2012/11/06/the-wheel-of-time-re-read-towers-of-midnight-part-25/\n",
      "274 https://www.tor.com/2012/11/13/the-wheel-of-time-re-read-towers-of-midnight-part-26/\n",
      "275 https://www.tor.com/2012/11/20/the-wheel-of-time-re-read-towers-of-midnight-part-27/\n",
      "276 https://www.tor.com/2012/11/27/the-wheel-of-time-re-read-towers-of-midnight-part-28/\n",
      "277 https://www.tor.com/2012/12/04/the-wheel-of-time-re-read-towers-of-midnight-part-29/\n",
      "278 https://www.tor.com/2013/02/05/the-wheel-of-time-re-read-a-memory-of-light-part-1/\n",
      "279 https://www.tor.com/2013/02/12/the-wheel-of-time-re-read-a-memory-of-light-part-2/\n",
      "280 https://www.tor.com/2013/02/19/the-wheel-of-time-re-read-a-memory-of-light-part-3/\n",
      "281 https://www.tor.com/2013/02/26/the-wheel-of-time-re-read-a-memory-of-light-part-4/\n",
      "282 https://www.tor.com/2013/03/05/the-wheel-of-time-re-read-a-memory-of-light-part-5/\n",
      "283 https://www.tor.com/2013/03/12/the-wheel-of-time-re-read-a-memory-of-light-part-6/\n"
     ]
    },
    {
     "name": "stdout",
     "output_type": "stream",
     "text": [
      "284 https://www.tor.com/2013/03/19/the-wheel-of-time-re-read-a-memory-of-light-part-7/\n",
      "285 https://www.tor.com/2013/03/26/the-wheel-of-time-re-read-a-memory-of-light-part-8/\n",
      "286 https://www.tor.com/2013/04/02/the-wheel-of-time-re-read-a-memory-of-light-part-9/\n",
      "287 https://www.tor.com/2013/04/16/the-wheel-of-time-re-read-a-memory-of-light-part-10/\n",
      "288 https://www.tor.com/2013/04/30/the-wheel-of-time-re-read-a-memory-of-light-part-11/\n",
      "289 https://www.tor.com/2013/05/07/the-wheel-of-time-re-read-a-memory-of-light-part-12/\n",
      "290 https://www.tor.com/2013/05/14/the-wheel-of-time-re-read-a-memory-of-light-part-13/\n",
      "291 https://www.tor.com/2013/05/21/the-wheel-of-time-re-read-a-memory-of-light-part-14/\n",
      "292 https://www.tor.com/2013/05/28/the-wheel-of-time-re-read-a-memory-of-light-part-15/\n",
      "293 https://www.tor.com/2013/06/04/the-wheel-of-time-re-read-a-memory-of-light-part-16/\n",
      "294 https://www.tor.com/2013/06/11/the-wheel-of-time-re-read-a-memory-of-light-part-17/\n",
      "295 https://www.tor.com/2013/06/18/the-wheel-of-time-re-read-a-memory-of-light-part-18/\n",
      "296 https://www.tor.com/2013/06/25/the-wheel-of-time-re-read-a-memory-of-light-part-19/\n",
      "297 https://www.tor.com/2013/07/09/the-wheel-of-time-re-read-a-memory-of-light-part-20/\n",
      "298 https://www.tor.com/2013/07/16/the-wheel-of-time-reread-a-memory-of-light-part-21/\n",
      "299 https://www.tor.com/2013/07/23/the-wheel-of-time-reread-a-memory-of-light-part-22/\n",
      "300 https://www.tor.com/2013/07/30/the-wheel-of-time-reread-a-memory-of-light-part-23/\n",
      "301 https://www.tor.com/2013/08/06/the-wheel-of-time-reread-a-memory-of-light-part-24/\n",
      "302 https://www.tor.com/2013/08/13/the-wheel-of-time-reread-a-memory-of-light-part-25/\n",
      "303 https://www.tor.com/2013/08/20/the-wheel-of-time-reread-a-memory-of-light-part-26/\n",
      "304 https://www.tor.com/2013/08/27/the-wheel-of-time-reread-a-memory-of-light-part-27/\n",
      "305 https://www.tor.com/2013/09/10/the-wheel-of-time-reread-a-memory-of-light-part-28/\n",
      "306 https://www.tor.com/2013/09/17/the-wheel-of-time-re-read-a-memory-of-light-part-29/\n",
      "307 https://www.tor.com/2013/09/24/the-wheel-of-time-reread-a-memory-of-light-part-30/\n",
      "308 https://www.tor.com/2013/10/01/the-wheel-of-time-reread-a-memory-of-light-part-31/\n",
      "309 https://www.tor.com/2013/10/08/the-wheel-of-time-reread-a-memory-of-light-part-32/\n",
      "310 https://www.tor.com/2013/10/15/the-wheel-of-time-reread-a-memory-of-light-part-33/\n",
      "311 https://www.tor.com/2013/10/22/the-wheel-of-time-reread-a-memory-of-light-part-34/\n",
      "312 https://www.tor.com/2013/10/29/the-wheel-of-time-reread-a-memory-of-light-part-35/\n",
      "313 https://www.tor.com/2013/11/05/the-wheel-of-time-reread-a-memory-of-light-part-36/\n",
      "314 https://www.tor.com/2013/11/12/the-wheel-of-time-reread-a-memory-of-light-part-37/\n",
      "315 https://www.tor.com/2013/11/19/the-wheel-of-time-re-read-a-memory-of-light-part-38/\n",
      "316 https://www.tor.com/2013/11/26/the-wheel-of-time-reread-a-memory-of-light-part-39/\n",
      "317 https://www.tor.com/2013/12/03/the-wheel-of-time-reread-a-memory-of-light-part-40/\n",
      "318 https://www.tor.com/2013/12/10/the-wheel-of-time-reread-a-memory-of-light-part-41/\n",
      "319 https://www.tor.com/2013/12/17/the-wheel-of-time-reread-a-memory-of-light-part-42/\n",
      "320 https://www.tor.com/2014/01/07/the-wheel-of-time-reread-a-memory-of-light-part-43/\n",
      "321 https://www.tor.com/2014/01/14/the-wheel-of-time-reread-a-memory-of-light-part-44/\n",
      "322 https://www.tor.com/2014/01/21/the-wheel-of-time-re-read-a-memory-of-light-part-45/\n",
      "323 https://www.tor.com/2014/01/28/the-wheel-of-time-reread-a-memory-of-light-part-46/\n",
      "324 https://www.tor.com/2014/02/04/the-wheel-of-time-reread-a-memory-of-light-part-47/\n",
      "325 https://www.tor.com/2014/02/11/the-wheel-of-time-re-read-a-memory-of-light-part-48/\n",
      "326 https://www.tor.com/2014/02/18/the-wheel-of-time-reread-a-memory-of-light-part-49/\n",
      "327 https://www.tor.com/2014/02/25/the-wheel-of-time-reread-a-memory-of-light-part-50/\n",
      "328 https://www.tor.com/2014/03/04/the-wheel-of-time-reread-a-memory-of-light-part-51/\n",
      "329 https://www.tor.com/2014/03/11/the-wheel-of-time-reread-a-memory-of-light-sort-of-part-52/\n",
      "330 https://www.tor.com/2014/03/18/the-wheel-of-time-re-read-a-memory-of-light-part-53/\n",
      "331 https://www.tor.com/2014/03/25/the-wheel-of-time-reread-a-memory-of-light-part-54/\n",
      "332 https://www.tor.com/2014/04/01/the-wheel-of-time-reread-a-memory-of-light-part-55/\n",
      "333 https://www.tor.com/2014/04/08/the-wheel-of-time-reread-a-memory-of-light-part-56/\n",
      "334 https://www.tor.com/2014/04/22/the-wheel-of-time-reread-a-memory-of-light-part-57/\n",
      "335 https://www.tor.com/2014/04/29/the-wheel-of-time-reread-a-memory-of-light-part-58/\n",
      "336 https://www.tor.com/2014/05/06/the-wheel-of-time-reread-a-memory-of-light-part-59/\n"
     ]
    }
   ],
   "source": [
    "summaries = []\n",
    "counter = 0\n",
    "for link in links:\n",
    "    response = requests.get(link, headers=user_agent)\n",
    "    soup = bs.BeautifulSoup(response.text, 'lxml')\n",
    "    for p in soup.find_all(text='What Happens'):\n",
    "        summaries.append(find_text(links, link, p))\n",
    "    print(counter, link)\n",
    "    counter += 1\n",
    "    #time.sleep(1)"
   ]
  },
  {
   "cell_type": "code",
   "execution_count": 17,
   "metadata": {
    "ExecuteTime": {
     "end_time": "2020-08-23T19:47:29.138227Z",
     "start_time": "2020-08-23T19:47:29.108087Z"
    }
   },
   "outputs": [],
   "source": [
    "df = pd.DataFrame(summaries)\n",
    "df.to_pickle('../data_files/re_read.pickle')"
   ]
  },
  {
   "cell_type": "markdown",
   "metadata": {},
   "source": [
    "### Align chapters with book corpus and clean"
   ]
  },
  {
   "cell_type": "markdown",
   "metadata": {},
   "source": [
    "I manually aligned chapters in excel by outputting the df to an excel file, cleaning it up and saving results in \"chapters_and_pov.xlsx\". The cleaned file is available, so this step does not need to be repeated."
   ]
  },
  {
   "cell_type": "code",
   "execution_count": 18,
   "metadata": {
    "ExecuteTime": {
     "end_time": "2020-08-23T19:47:29.145385Z",
     "start_time": "2020-08-23T19:47:29.140608Z"
    }
   },
   "outputs": [],
   "source": [
    "# df.to_excel('../data_files/reread.xlsx')"
   ]
  },
  {
   "cell_type": "code",
   "execution_count": 19,
   "metadata": {
    "ExecuteTime": {
     "end_time": "2020-08-23T19:47:29.434883Z",
     "start_time": "2020-08-23T19:47:29.155274Z"
    }
   },
   "outputs": [],
   "source": [
    "df_updated = pd.read_excel('../data_files/chapters_and_pov.xlsx', sheet_name='reread', engine='openpyxl', usecols='A:E')"
   ]
  },
  {
   "cell_type": "code",
   "execution_count": 20,
   "metadata": {
    "ExecuteTime": {
     "end_time": "2020-08-23T19:47:29.451292Z",
     "start_time": "2020-08-23T19:47:29.436981Z"
    }
   },
   "outputs": [],
   "source": [
    "# Combine cells that were too large to do in Excel\n",
    "last_battle_text = df_updated[df_updated.chapter_title.str.contains('Last Battle')]['text'].str.cat(sep = ' ')\n",
    "df_updated.loc[df_updated.chapter_reread == 'Chapter 37: The Last Battle (Part 1)','text'] = last_battle_text\n",
    "i = df_updated[df_updated.chapter_reread.str.contains('Last Battle \\[')].index\n",
    "df_updated.drop(i, inplace=True)"
   ]
  },
  {
   "cell_type": "code",
   "execution_count": 21,
   "metadata": {
    "ExecuteTime": {
     "end_time": "2020-08-23T19:47:29.472395Z",
     "start_time": "2020-08-23T19:47:29.454758Z"
    }
   },
   "outputs": [],
   "source": [
    "kod_pr_text = df_updated[df_updated.chapter_title.str.contains('Embers Falling')]['text'].str.cat(sep = ' ')\n",
    "df_updated.loc[df_updated.chapter_title == 'Prologue: Embers Falling on Dry Grass 1','text'] = kod_pr_text\n",
    "i = df_updated.loc[df_updated.chapter_title == 'Prologue: Embers Falling on Dry Grass 2'].index\n",
    "df_updated.drop(i, inplace=True)"
   ]
  },
  {
   "cell_type": "code",
   "execution_count": 22,
   "metadata": {
    "ExecuteTime": {
     "end_time": "2020-08-23T19:47:29.502782Z",
     "start_time": "2020-08-23T19:47:29.476277Z"
    }
   },
   "outputs": [],
   "source": [
    "cot_pr_text = df_updated[df_updated.chapter_title.str.contains('Prologue: Glimmers')]['text'].str.cat(sep = ' ')\n",
    "df_updated.loc[df_updated.chapter_title == 'Prologue: Glimmers of the Pattern 1','text'] = cot_pr_text\n",
    "i = df_updated.loc[df_updated.chapter_title == 'Prologue: Glimmers of the Pattern 2'].index\n",
    "df_updated.drop(i, inplace=True)"
   ]
  },
  {
   "cell_type": "code",
   "execution_count": 23,
   "metadata": {
    "ExecuteTime": {
     "end_time": "2020-08-23T19:47:29.529805Z",
     "start_time": "2020-08-23T19:47:29.506593Z"
    }
   },
   "outputs": [],
   "source": [
    "wh_pr_text = df_updated[df_updated.chapter_title.str.contains('Prologue: Snow')]['text'].str.cat(sep = ' ')\n",
    "df_updated.loc[df_updated.chapter_title == 'Prologue: Snow 1','text'] = wh_pr_text\n",
    "i = df_updated.loc[df_updated.chapter_title == 'Prologue: Snow 2'].index\n",
    "df_updated.drop(i, inplace=True)"
   ]
  },
  {
   "cell_type": "code",
   "execution_count": 24,
   "metadata": {
    "ExecuteTime": {
     "end_time": "2020-08-23T19:47:29.558579Z",
     "start_time": "2020-08-23T19:47:29.536469Z"
    }
   },
   "outputs": [],
   "source": [
    "loc_pr_text = df_updated[df_updated.chapter_title.str.contains('Prologue: The First Message')]['text'].str.cat(sep = ' ')\n",
    "df_updated.loc[df_updated.chapter_title == 'Prologue: The First Message 1','text'] = loc_pr_text\n",
    "i = df_updated.loc[df_updated.chapter_title == 'Prologue: The First Message 2'].index\n",
    "df_updated.drop(i, inplace=True)"
   ]
  },
  {
   "cell_type": "code",
   "execution_count": 25,
   "metadata": {
    "ExecuteTime": {
     "end_time": "2020-08-23T19:47:30.591592Z",
     "start_time": "2020-08-23T19:47:29.566665Z"
    }
   },
   "outputs": [],
   "source": [
    "df_updated.reset_index(drop=True)\n",
    "df_updated['clean_text'] = df_updated.text.apply(clean_text)"
   ]
  },
  {
   "cell_type": "code",
   "execution_count": 26,
   "metadata": {
    "ExecuteTime": {
     "end_time": "2020-08-23T19:47:30.605832Z",
     "start_time": "2020-08-23T19:47:30.594019Z"
    }
   },
   "outputs": [],
   "source": [
    "reread_corpus = df_updated.clean_text\n",
    "reread_corpus.to_pickle('../data_files/reread_corpus.pickle')"
   ]
  }
 ],
 "metadata": {
  "kernelspec": {
   "display_name": "Python [conda env:metis] *",
   "language": "python",
   "name": "conda-env-metis-py"
  },
  "language_info": {
   "codemirror_mode": {
    "name": "ipython",
    "version": 3
   },
   "file_extension": ".py",
   "mimetype": "text/x-python",
   "name": "python",
   "nbconvert_exporter": "python",
   "pygments_lexer": "ipython3",
   "version": "3.8.3"
  },
  "toc": {
   "base_numbering": 1,
   "nav_menu": {},
   "number_sections": true,
   "sideBar": true,
   "skip_h1_title": false,
   "title_cell": "Table of Contents",
   "title_sidebar": "Contents",
   "toc_cell": false,
   "toc_position": {},
   "toc_section_display": true,
   "toc_window_display": false
  }
 },
 "nbformat": 4,
 "nbformat_minor": 4
}
